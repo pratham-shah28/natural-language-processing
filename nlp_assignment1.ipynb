{
  "nbformat": 4,
  "nbformat_minor": 0,
  "metadata": {
    "colab": {
      "provenance": [],
      "authorship_tag": "ABX9TyPUt6Qe/KVPeDsm8ogbEwte",
      "include_colab_link": true
    },
    "kernelspec": {
      "name": "python3",
      "display_name": "Python 3"
    },
    "language_info": {
      "name": "python"
    }
  },
  "cells": [
    {
      "cell_type": "markdown",
      "metadata": {
        "id": "view-in-github",
        "colab_type": "text"
      },
      "source": [
        "<a href=\"https://colab.research.google.com/github/pratham-shah28/natural-language-processing/blob/a1/nlp_assignment1.ipynb\" target=\"_parent\"><img src=\"https://colab.research.google.com/assets/colab-badge.svg\" alt=\"Open In Colab\"/></a>"
      ]
    },
    {
      "cell_type": "code",
      "execution_count": 21,
      "metadata": {
        "colab": {
          "base_uri": "https://localhost:8080/"
        },
        "id": "dBmxhYYV9fXe",
        "outputId": "bcd58f42-22e7-4790-b192-ef3fc70cc8ac"
      },
      "outputs": [
        {
          "output_type": "stream",
          "name": "stdout",
          "text": [
            "AUGC is valid RNA: True\n",
            "AUBC is valid RNA: False\n",
            "AU is valid RNA: True\n",
            "AGCUAUGCGCUA is valid RNA: True\n",
            "AGCUAUGCGCUA12 is valid RNA: False\n"
          ]
        }
      ],
      "source": [
        "import re\n",
        "\n",
        "# To validate if a given string is a valid RNA sequence (contains only A, C, G, U)\n",
        "\n",
        "def is_valid_rna(rna):\n",
        "  pattern = r'^[ACGU]*$'\n",
        "  if re.search(pattern, rna):\n",
        "    return True\n",
        "  else:\n",
        "    return False\n",
        "\n",
        "# TEST CASES\n",
        "\n",
        "print('AUGC is valid RNA:', is_valid_rna(\"AUGC\"))\n",
        "print('AUBC is valid RNA:', is_valid_rna(\"AUBC\"))\n",
        "print('AU is valid RNA:', is_valid_rna(\"AU\"))\n",
        "print('AGCUAUGCGCUA is valid RNA:', is_valid_rna(\"AGCUAUGCGCUA\"))\n",
        "print('AGCUAUGCGCUA12 is valid RNA:', is_valid_rna(\"AGCUAUGCGCUA12\"))"
      ]
    },
    {
      "cell_type": "code",
      "source": [
        "def nucleotide_count(rna):\n",
        "  res = {}\n",
        "  res['A'] = 0\n",
        "  res['G'] = 0\n",
        "  res['C'] = 0\n",
        "  res['U'] = 0\n",
        "\n",
        "  for i in rna:\n",
        "    if i == 'A' or i == 'G' or i == 'C' or i == 'U':\n",
        "      res[i] += 1\n",
        "  return res\n",
        "\n",
        "# TEST CAES\n",
        "\n",
        "print( nucleotide_count(\"AGCUAUGCGCUA\"))\n",
        "print( nucleotide_count(\"AUC\"))"
      ],
      "metadata": {
        "colab": {
          "base_uri": "https://localhost:8080/"
        },
        "id": "veEVtjwVCy6M",
        "outputId": "8285812e-1714-41ae-b67a-2b2f945060da"
      },
      "execution_count": 28,
      "outputs": [
        {
          "output_type": "stream",
          "name": "stdout",
          "text": [
            "{'A': 3, 'G': 3, 'C': 3, 'U': 3}\n",
            "{'A': 1, 'G': 0, 'C': 1, 'U': 1}\n"
          ]
        }
      ]
    }
  ]
}